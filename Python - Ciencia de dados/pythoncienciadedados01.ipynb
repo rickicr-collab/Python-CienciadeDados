{
 "cells": [
  {
   "cell_type": "code",
   "execution_count": 1,
   "metadata": {},
   "outputs": [
    {
     "name": "stdout",
     "output_type": "stream",
     "text": [
      "Caracteristicas:\n",
      " [[5.1 3.5 1.4 0.2]\n",
      " [4.9 3.  1.4 0.2]]\n",
      "Rótulos:\n",
      " [0 0]\n",
      "########################################################\n",
      "Acurácia Árvore de Decisão: 0.94737\n",
      "Acurácia SVM: 0.94737\n",
      "########################################################\n",
      "Estrutura da árvore\n",
      "|--- petal width (cm) <= 0.80\n",
      "|   |--- class: 0\n",
      "|--- petal width (cm) >  0.80\n",
      "|   |--- petal width (cm) <= 1.75\n",
      "|   |   |--- class: 1\n",
      "|   |--- petal width (cm) >  1.75\n",
      "|   |   |--- class: 2\n",
      "\n"
     ]
    }
   ],
   "source": [
    "#Algoritmos com Dados Supervisionados#\n",
    "from sklearn.datasets import load_iris, fetch_kddcup99\n",
    "from sklearn.metrics import accuracy_score\n",
    "from sklearn.model_selection import train_test_split\n",
    "from sklearn.tree import DecisionTreeClassifier, export_text, plot_tree\n",
    "from sklearn.svm import SVC\n",
    " \n",
    "################## Pré-processamento ###################\n",
    "# Coleta e Integração\n",
    "iris = load_iris()\n",
    " \n",
    "caracteristicas = iris.data\n",
    "rotulos = iris.target\n",
    " \n",
    "print(\"Caracteristicas:\\n\", caracteristicas[:2])\n",
    "print(\"Rótulos:\\n\", rotulos[:2])\n",
    "print('########################################################')\n",
    " \n",
    "# Partição dos dados\n",
    "carac_treino, carac_teste, rot_treino, rot_teste = train_test_split(caracteristicas, rotulos)\n",
    " \n",
    "################### Mineração #####################\n",
    " \n",
    "############---------- Arvore de Decisão -----------############\n",
    "arvore = DecisionTreeClassifier(max_depth=2)\n",
    "arvore.fit(X=carac_treino, y=rot_treino)\n",
    " \n",
    "rot_preditos = arvore.predict(carac_teste)\n",
    "acuracia_arvore = accuracy_score(rot_teste, rot_preditos)\n",
    "############-------- Máquina de Vetor Suporte ------############\n",
    "clf = SVC()\n",
    "clf.fit(X=carac_treino, y=rot_treino)\n",
    " \n",
    "rot_preditos_svm = clf.predict(carac_teste)\n",
    "acuracia_svm = accuracy_score(rot_teste, rot_preditos_svm)\n",
    " \n",
    "################ Pós-processamento ####################\n",
    "print(\"Acurácia Árvore de Decisão:\", round(acuracia_arvore, 5))\n",
    "print(\"Acurácia SVM:\", round(acuracia_svm, 5))\n",
    "print('########################################################')\n",
    " \n",
    "r = export_text(arvore, feature_names=iris['feature_names'])\n",
    "print(\"Estrutura da árvore\")\n",
    "print(r)"
   ]
  }
 ],
 "metadata": {
  "kernelspec": {
   "display_name": "Python 3",
   "language": "python",
   "name": "python3"
  },
  "language_info": {
   "codemirror_mode": {
    "name": "ipython",
    "version": 3
   },
   "file_extension": ".py",
   "mimetype": "text/x-python",
   "name": "python",
   "nbconvert_exporter": "python",
   "pygments_lexer": "ipython3",
   "version": "3.11.2"
  },
  "orig_nbformat": 4
 },
 "nbformat": 4,
 "nbformat_minor": 2
}
