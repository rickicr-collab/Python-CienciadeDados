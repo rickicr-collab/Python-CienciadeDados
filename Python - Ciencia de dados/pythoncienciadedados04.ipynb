{
 "cells": [
  {
   "cell_type": "code",
   "execution_count": 1,
   "metadata": {},
   "outputs": [
    {
     "name": "stdout",
     "output_type": "stream",
     "text": [
      "Shape dos dados de imagens : (1797, 64)\n",
      "Shape dos dados rotulados: (1797,)\n"
     ]
    }
   ],
   "source": [
    "'''carregar dados da base load_digits. informar a quantidade de dados'''\n",
    "from sklearn.datasets import  load_digits\n",
    "digitos = load_digits()\n",
    "\n",
    "#Existem 1797 imagens , sendo  que cada uma tem dimensão de 8 x 8 = 64 )\n",
    "print('Shape dos dados de imagens : {}'.format(digitos.data.shape))\n",
    "\n",
    "# Apresentar  o total de dados  rotulados  com inteiros de 0 a 9 \n",
    "print('Shape dos dados rotulados: {}'.format(digitos.target.shape))\n"
   ]
  }
 ],
 "metadata": {
  "kernelspec": {
   "display_name": "Python 3",
   "language": "python",
   "name": "python3"
  },
  "language_info": {
   "codemirror_mode": {
    "name": "ipython",
    "version": 3
   },
   "file_extension": ".py",
   "mimetype": "text/x-python",
   "name": "python",
   "nbconvert_exporter": "python",
   "pygments_lexer": "ipython3",
   "version": "3.11.2"
  },
  "orig_nbformat": 4
 },
 "nbformat": 4,
 "nbformat_minor": 2
}
