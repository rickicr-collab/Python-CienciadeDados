{
 "cells": [
  {
   "cell_type": "code",
   "execution_count": 1,
   "metadata": {},
   "outputs": [
    {
     "name": "stderr",
     "output_type": "stream",
     "text": [
      "C:\\Users\\Ricardo\\AppData\\Roaming\\Python\\Python311\\site-packages\\sklearn\\cluster\\_kmeans.py:870: FutureWarning: The default value of `n_init` will change from 10 to 'auto' in 1.4. Set the value of `n_init` explicitly to suppress the warning\n",
      "  warnings.warn(\n"
     ]
    },
    {
     "data": {
      "text/plain": [
       "<Figure size 640x480 with 0 Axes>"
      ]
     },
     "metadata": {},
     "output_type": "display_data"
    },
    {
     "data": {
      "text/plain": [
       "<Figure size 640x480 with 0 Axes>"
      ]
     },
     "metadata": {},
     "output_type": "display_data"
    }
   ],
   "source": [
    "\n",
    "# Algoritmo com dados não supervisionados #\n",
    "'''Não supervisionado ‒ agrupamento'''\n",
    "'''O objetivo de um algoritmo de agrupamento é reunir objetos de uma coleção que mantenham algum grau de afinidade. É utilizada uma função para maximizar a similaridade de objetos do mesmo grupo e minimizar entre elementos de outros grupos.'''\n",
    "\n",
    "'''No próximo exemplo (script agrupamento.py), utilizaremos o algoritmo k-medias para gerar grupos a partir do dataset de Flor de Íris. Porém, como o agrupamento é um algoritmo não supervisionado, não utilizaremos os rótulos para treiná-lo. O algoritmo vai automaticamente separar as amostras em grupos, que serão visualizados em um gráfico.\n",
    "\n",
    "Na etapa de pré-processamento, começaremos pela coleta e integração que é a obtenção do dataset de flores utilizando a função load_iris() (linha 8).\n",
    "\n",
    "Na linha 10, separamos as características das flores na variável características. Lembrando que as características das flores são: comprimento da sépala (índice 0), largura da sépala (índice 1), comprimento da pétala (índice 2) e largura da pétala (índice 3).'''\n",
    "'''Na etapa de mineração de dados, treinaremos o algoritmo de agrupamento K-medias com as características das flores. Para isso, criamos uma instância da classe KMeans passando como parâmetro o número de grupos (ou classes) que desejamos que o algoritmo identifique (n_clusters) (linha 13).\n",
    "\n",
    "Passamos o número 3, pois sabemos que são 3 classes de flor, mas poderíamos alterar esse valor. O objeto grupos criado será utilizado para treinar (ajustar) o algoritmo. Para realizar o treinamento (fit), precisamos passar apenas parâmetros X, que conterão as características das flores (linha 14).\n",
    "\n",
    "Após o treino, podemos utilizar o atributo labels_ do objeto grupos para retornar uma lista com o índice do grupo ao qual cada amostra pertence. Como o número de grupos (n_clusters) é 3, o índice varia entre: 0, 1 e 2. Veja o código a seguir:'''\n",
    "\n",
    "import matplotlib.pyplot as plt\n",
    "from mpl_toolkits.mplot3d import Axes3D\n",
    "from sklearn.cluster import KMeans\n",
    "from sklearn.datasets import load_iris\n",
    " \n",
    "################## Pré-processamento ###################\n",
    "# Coleta e Integração\n",
    "iris = load_iris()\n",
    " \n",
    "caracteristicas = iris.data\n",
    " \n",
    "################### Mineração #####################\n",
    "grupos = KMeans(n_clusters=3)\n",
    "grupos.fit(X=caracteristicas)\n",
    "labels = grupos.labels_ # indice do grupo ao qual cada amostra pertence\n",
    " \n",
    "################ Pós-processamento ####################\n",
    "fig = plt.figure(1)\n",
    "ax = Axes3D(fig)\n",
    "ax.set_xlabel('Comprimento Sépala')\n",
    "ax.set_ylabel('Largura Sépala')\n",
    "ax.set_zlabel('Comprimento Pétala')\n",
    "ax.scatter(caracteristicas[:, 0], caracteristicas[:, 1], caracteristicas[:, 2], c=grupos.labels_, edgecolor='k')\n",
    " \n",
    "target = iris.target\n",
    "fig = plt.figure(2)\n",
    "ax = Axes3D(fig)\n",
    "ax.set_xlabel('Comprimento Sépala')\n",
    "ax.set_ylabel('Largura Sépala')\n",
    "ax.set_zlabel('Comprimento Pétala')\n",
    "ax.scatter(caracteristicas[:, 0], caracteristicas[:, 1], caracteristicas[:, 2], c=target, edgecolor='k')\n",
    " \n",
    "plt.show()\n"
   ]
  }
 ],
 "metadata": {
  "kernelspec": {
   "display_name": "Python 3",
   "language": "python",
   "name": "python3"
  },
  "language_info": {
   "codemirror_mode": {
    "name": "ipython",
    "version": 3
   },
   "file_extension": ".py",
   "mimetype": "text/x-python",
   "name": "python",
   "nbconvert_exporter": "python",
   "pygments_lexer": "ipython3",
   "version": "3.11.2"
  },
  "orig_nbformat": 4
 },
 "nbformat": 4,
 "nbformat_minor": 2
}
